{
 "cells": [
  {
   "cell_type": "code",
   "execution_count": 1,
   "metadata": {
    "ExecuteTime": {
     "end_time": "2020-02-13T04:18:38.698835Z",
     "start_time": "2020-02-13T04:18:37.204774Z"
    }
   },
   "outputs": [],
   "source": [
    "import csv\n",
    "import pandas as pd\n",
    "import numpy as np\n",
    "import plotly.graph_objects as go\n",
    "import plotly\n",
    "import os\n",
    "import tqdm\n",
    "import json\n",
    "from collections import defaultdict\n",
    "import json_lines\n",
    "import datetime\n",
    "import matplotlib.pyplot as plt\n",
    "from statistics import median\n",
    "from ipywidgets import interact"
   ]
  },
  {
   "cell_type": "code",
   "execution_count": 6,
   "metadata": {
    "ExecuteTime": {
     "end_time": "2020-02-13T04:28:01.915409Z",
     "start_time": "2020-02-13T04:28:01.911233Z"
    }
   },
   "outputs": [],
   "source": [
    "path = '../pilgrim data/candidates/'\n",
    "days = os.listdir(path)"
   ]
  },
  {
   "cell_type": "code",
   "execution_count": 8,
   "metadata": {
    "ExecuteTime": {
     "end_time": "2020-02-13T04:32:01.047419Z",
     "start_time": "2020-02-13T04:31:59.609313Z"
    }
   },
   "outputs": [
    {
     "name": "stderr",
     "output_type": "stream",
     "text": [
      "100%|██████████| 1307/1307 [00:01<00:00, 919.17it/s]\n"
     ]
    }
   ],
   "source": [
    "aids = defaultdict(list)\n",
    "for day in tqdm.tqdm(days):\n",
    "    with open(path + day, 'r') as f:\n",
    "        data = json.load(f)\n",
    "    for aid, info in data:\n",
    "        aids[day].append(aid)"
   ]
  },
  {
   "cell_type": "code",
   "execution_count": 32,
   "metadata": {
    "ExecuteTime": {
     "end_time": "2020-02-13T06:23:46.750713Z",
     "start_time": "2020-02-13T04:58:56.159765Z"
    }
   },
   "outputs": [
    {
     "name": "stderr",
     "output_type": "stream",
     "text": [
      "100%|██████████| 1307/1307 [1:24:50<00:00,  3.89s/it]\n"
     ]
    }
   ],
   "source": [
    "original_path = '../news data/comments/daily_comments/'\n",
    "article_path = '../news data/articles/all_daily_articles_naver/'\n",
    "original_days = os.listdir(original_path)\n",
    "\n",
    "\n",
    "def created_time(createdAt):\n",
    "    date = createdAt[:10]\n",
    "    return ''.join(date.split('-'))\n",
    "\n",
    "\n",
    "def timeline_criteria(timeline, threshold_freq=4, threshold_sum=30, threshold_date=183):\n",
    "    # 해당 조건을 만족해야만 성지로서의 자격을 1차로 얻을 수 있다고 볼 수 있음.\n",
    "\n",
    "    # 1. timeline의 길이가 treshold_freq 보다 길어야 함.\n",
    "    if len(timeline) < threshold_freq:\n",
    "        return False\n",
    "\n",
    "    # 2. 해당 기사의 총 댓글 수가 threshold_sum 보다 많아야 함.\n",
    "    total = sum(list(timeline.values()))\n",
    "    if total < threshold_sum:\n",
    "        return False\n",
    "\n",
    "    # 3. 가장 최근 댓글과 발행일 사이의 간격이 threshold_date 보다 길어야 함.\n",
    "    published_date = datetime.datetime.strptime(\n",
    "        list(timeline.keys())[0], '%Y%m%d')\n",
    "    last_comment_date = datetime.datetime.strptime(\n",
    "        list(timeline.keys())[-1], '%Y%m%d')\n",
    "    term = (last_comment_date - published_date).days\n",
    "    if term < threshold_date:\n",
    "        return False\n",
    "\n",
    "    return True\n",
    "\n",
    "\n",
    "def contributor_criteria(contributors, threshold_sum=10, threshold_monopoly=0.8):\n",
    "    # 댓글 참여자의 수가 너무 적거나 일부 참여자에게 독점이 심한 경우에는 성지 목록에서 제외함.\n",
    "    total_conts = len(list(contributors.keys()))\n",
    "    total_replies = sum(list(contributors.values()))\n",
    "    if total_conts < threshold_sum:\n",
    "        return False\n",
    "    ordered_conts = sorted(contributors.items(),\n",
    "                           key=lambda x: x[1], reverse=True)\n",
    "    if sum([count for (user, count) in ordered_conts[:5]]) / total_replies > threshold_monopoly:\n",
    "        return False\n",
    "    return True\n",
    "\n",
    "\n",
    "# 전역변수 생성.\n",
    "checker = defaultdict(dict)\n",
    "threshold = 20\n",
    "\n",
    "for day in tqdm.tqdm(days):\n",
    "    with open(article_path + day, 'r') as f:\n",
    "        articles = json.load(f)\n",
    "\n",
    "    with open(original_path + day, 'r') as f:\n",
    "        data = json.load(f)\n",
    "\n",
    "    target_aids = aids[day]\n",
    "    for aid in target_aids:\n",
    "        article = articles[aid]\n",
    "        published_date = datetime.datetime.strptime(\n",
    "            article['timestamp'][:10], '%Y-%m-%d')\n",
    "        over_1_year = 0\n",
    "        comment_timeline = defaultdict(int)\n",
    "        contributors = defaultdict(int)\n",
    "\n",
    "        for comment in data[aid]:\n",
    "            # 타임라인 제작.\n",
    "            timestamp = created_time(comment['createdAt'])\n",
    "            comment_timeline[timestamp] += 1\n",
    "\n",
    "            # 각 comment 별로 1년 넘은 comment인 지 확인.\n",
    "            last_comment_date = datetime.datetime.strptime(\n",
    "                comment['createdAt'][:10], '%Y-%m-%d')\n",
    "            term = (last_comment_date - published_date).days\n",
    "            if term > 365:\n",
    "                over_1_year += 1\n",
    "\n",
    "            # 댓글 작성자 기록을 담는 contributor dictionary 채우기\n",
    "            writer = comment['userName']\n",
    "            contributors[writer] += 1\n",
    "\n",
    "        if timeline_criteria(comment_timeline) and contributor_criteria(contributors) and over_1_year > threshold:\n",
    "            checker[article['gno']]['title'] = article['title']\n",
    "            checker[article['gno']]['url'] = article['url']\n",
    "            checker[article['gno']]['timestamp'] = article['timestamp']\n",
    "            checker[article['gno']]['sid1s'] = article['sid1s']\n",
    "\n",
    "            checker[article['gno']]['count'] = over_1_year\n",
    "            checker[article['gno']]['percentage'] = round(\n",
    "                over_1_year / len(data[aid]), 3)\n",
    "\n",
    "            checker[article['gno']]['timeline'] = comment_timeline"
   ]
  },
  {
   "cell_type": "code",
   "execution_count": 40,
   "metadata": {
    "ExecuteTime": {
     "end_time": "2020-02-13T15:50:16.460337Z",
     "start_time": "2020-02-13T15:50:16.141094Z"
    }
   },
   "outputs": [],
   "source": [
    "with open('/Volumes/CHANGYEON/NEWS RESEARCH/pilgrim data/result/current_pilgrim_candidate.json', 'w') as f:\n",
    "    json.dump(checker, f)"
   ]
  },
  {
   "cell_type": "code",
   "execution_count": null,
   "metadata": {},
   "outputs": [],
   "source": []
  }
 ],
 "metadata": {
  "kernelspec": {
   "display_name": "Python 3",
   "language": "python",
   "name": "python3"
  },
  "language_info": {
   "codemirror_mode": {
    "name": "ipython",
    "version": 3
   },
   "file_extension": ".py",
   "mimetype": "text/x-python",
   "name": "python",
   "nbconvert_exporter": "python",
   "pygments_lexer": "ipython3",
   "version": "3.7.4"
  },
  "toc": {
   "base_numbering": 1,
   "nav_menu": {},
   "number_sections": true,
   "sideBar": true,
   "skip_h1_title": false,
   "title_cell": "Table of Contents",
   "title_sidebar": "Contents",
   "toc_cell": false,
   "toc_position": {},
   "toc_section_display": true,
   "toc_window_display": false
  }
 },
 "nbformat": 4,
 "nbformat_minor": 2
}
