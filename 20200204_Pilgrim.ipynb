{
 "cells": [
  {
   "cell_type": "code",
   "execution_count": 1,
   "metadata": {},
   "outputs": [],
   "source": [
    "import csv\n",
    "import pandas as pd\n",
    "import numpy as np\n",
    "import plotly.graph_objects as go\n",
    "import os\n",
    "import tqdm\n",
    "import json\n",
    "from collections import defaultdict\n",
    "import datetime"
   ]
  },
  {
   "cell_type": "code",
   "execution_count": 2,
   "metadata": {},
   "outputs": [
    {
     "data": {
      "text/plain": [
       "1308"
      ]
     },
     "execution_count": 2,
     "metadata": {},
     "output_type": "execute_result"
    }
   ],
   "source": [
    "path = '../news data/comments/daily_comments/'\n",
    "daily_comments = os.listdir(path)\n",
    "len(daily_comments)"
   ]
  },
  {
   "cell_type": "code",
   "execution_count": null,
   "metadata": {},
   "outputs": [
    {
     "name": "stderr",
     "output_type": "stream",
     "text": [
      "100%|█████████▉| 790/791 [1:06:02<00:05,  5.16s/it]"
     ]
    }
   ],
   "source": [
    "# 성지순례를 위한 데이터셋 만드는 작업 돌입.\n",
    "# 이해를 잘못했네... daily comments 파일 ==> 각 날짜에 만들어진 기사에 대한 모든 댓글 포함! ==> 각 comments 안에서 timeline을 찾아야 하는 거임.\n",
    "\n",
    "def created_time (createdAt):\n",
    "    date = createdAt[:10]\n",
    "    return ''.join(date.split('-'))\n",
    "\n",
    "def criteria (timeline, threshold_freq = 4, threshold_sum = 30, threshold_date = 183):\n",
    "    # 해당 조건을 만족해야만 성지로서의 자격을 1차로 얻을 수 있다고 볼 수 있음.\n",
    "    \n",
    "    # 1. timeline의 길이가 treshold_freq 보다 길어야 함.\n",
    "    if len(timeline) < threshold_freq:\n",
    "        return False\n",
    "    \n",
    "    # 2. 해당 기사의 총 댓글 수가 threshold_sum 보다 많아야 함.\n",
    "    total = sum(list(timeline.values()))\n",
    "    if total < threshold_sum:\n",
    "        return False\n",
    "    \n",
    "    # 3. 가장 최근 댓글과 발행일 사이의 간격이 threshold_date 보다 길어야 함.\n",
    "    published_date = datetime.datetime.strptime(list(timeline.keys())[0], '%Y%m%d')\n",
    "    last_comment_date = datetime.datetime.strptime(list(timeline.keys())[-1], '%Y%m%d')\n",
    "    term = (last_comment_date - published_date).days \n",
    "    if term < threshold_date:\n",
    "        return False\n",
    "    \n",
    "    return True\n",
    "\n",
    "    \n",
    "\n",
    "\n",
    "comment_path = '../news data/comments/daily_comments/'\n",
    "article_path = '../news data/articles/all_daily_articles_naver/'\n",
    "\n",
    "for day in tqdm.tqdm(daily_comments[517:]):\n",
    "    pilgrim_info = {}\n",
    "    with open(comment_path + day) as cfile:\n",
    "        comment_data = json.load(cfile)\n",
    "    \n",
    "    with open(article_path + day) as afile:\n",
    "        article_data = json.load(afile)\n",
    "\n",
    "    date = day[:8]\n",
    "    candidate_counter = 0\n",
    "\n",
    "    for aid, comments in comment_data.items():\n",
    "        comment_timeline = defaultdict(int)\n",
    "        for comment in comments:\n",
    "            timestamp = created_time(comment['createdAt'])\n",
    "            comment_timeline[timestamp] += 1\n",
    "            \n",
    "        if criteria(comment_timeline):\n",
    "            pilgrim_info[aid] = {}\n",
    "            pilgrim_info[aid]['url'] = article_data[aid]['url']\n",
    "            pilgrim_info[aid]['office'] = article_data[aid]['office']\n",
    "            pilgrim_info[aid]['title'] = article_data[aid]['title']\n",
    "            pilgrim_info[aid]['published_date'] = article_data[aid]['timestamp']\n",
    "            pilgrim_info[aid]['timeline'] = comment_timeline\n",
    "            candidate_counter += 1\n",
    "            \n",
    "#     print(f'{date}: 1ST PILGRIM CANDIDATES: {candidate_counter}\\tTOTAL COMMENTS: {len(comment_data)}')\n",
    "            \n",
    "    pilgrim_info = sorted(pilgrim_info.items(), key = lambda x: len(x[1]['timeline']), reverse = True)\n",
    "    with open('../pilgrim data/candidates/' + day, 'w') as f:\n",
    "        json.dump(pilgrim_info, f)"
   ]
  },
  {
   "cell_type": "code",
   "execution_count": 2,
   "metadata": {},
   "outputs": [
    {
     "ename": "NameError",
     "evalue": "name 'pilgrim_info' is not defined",
     "output_type": "error",
     "traceback": [
      "\u001b[0;31m---------------------------------------------------------------------------\u001b[0m",
      "\u001b[0;31mNameError\u001b[0m                                 Traceback (most recent call last)",
      "\u001b[0;32m<ipython-input-2-0ceea80c758a>\u001b[0m in \u001b[0;36m<module>\u001b[0;34m\u001b[0m\n\u001b[0;32m----> 1\u001b[0;31m \u001b[0mpilgrim_info\u001b[0m\u001b[0;34m\u001b[0m\u001b[0;34m\u001b[0m\u001b[0m\n\u001b[0m",
      "\u001b[0;31mNameError\u001b[0m: name 'pilgrim_info' is not defined"
     ]
    }
   ],
   "source": [
    "pilgrim_info"
   ]
  },
  {
   "cell_type": "code",
   "execution_count": null,
   "metadata": {},
   "outputs": [],
   "source": []
  }
 ],
 "metadata": {
  "kernelspec": {
   "display_name": "Python 3",
   "language": "python",
   "name": "python3"
  },
  "language_info": {
   "codemirror_mode": {
    "name": "ipython",
    "version": 3
   },
   "file_extension": ".py",
   "mimetype": "text/x-python",
   "name": "python",
   "nbconvert_exporter": "python",
   "pygments_lexer": "ipython3",
   "version": "3.7.4"
  }
 },
 "nbformat": 4,
 "nbformat_minor": 2
}
